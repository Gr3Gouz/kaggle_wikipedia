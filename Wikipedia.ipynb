{
 "cells": [
  {
   "cell_type": "code",
   "execution_count": 36,
   "metadata": {
    "collapsed": false
   },
   "outputs": [],
   "source": [
    "%matplotlib inline\n",
    "import pandas as pd\n",
    "import numpy as np\n",
    "from fbprophet import Prophet\n",
    "\n",
    "import matplotlib.pyplot as plt\n",
    "plt.style.use('fivethirtyeight')"
   ]
  },
  {
   "cell_type": "code",
   "execution_count": 37,
   "metadata": {
    "collapsed": true
   },
   "outputs": [],
   "source": [
    "N = 60 # number of days for test split\n",
    "i = 1800 # one example time series to train"
   ]
  },
  {
   "cell_type": "code",
   "execution_count": 38,
   "metadata": {
    "collapsed": false
   },
   "outputs": [],
   "source": [
    "all_data = pd.read_csv(\"../input/train_1.csv\").T\n",
    "key = pd.read_csv(\"../input/key_1.csv\")"
   ]
  },
  {
   "cell_type": "code",
   "execution_count": 39,
   "metadata": {
    "collapsed": true
   },
   "outputs": [],
   "source": [
    "#Handle N/A\n",
    "train, test = all_data.iloc[0:-N,:], all_data.iloc[-N:,:]\n",
    "\n",
    "test_cleaned = test.T.fillna(method='ffill').T\n",
    "train_cleaned = train.T.iloc[:,1:].fillna(method='ffill').T"
   ]
  },
  {
   "cell_type": "code",
   "execution_count": 40,
   "metadata": {
    "collapsed": false
   },
   "outputs": [
    {
     "name": "stdout",
     "output_type": "stream",
     "text": [
      "            visits  median\n",
      "2016-10-28    12.0     6.0\n",
      "2016-10-29     8.0     6.0\n",
      "2016-10-30    11.0     6.0\n",
      "2016-10-31    13.0     6.0\n",
      "2016-11-01     8.0     6.5\n"
     ]
    },
    {
     "name": "stderr",
     "output_type": "stream",
     "text": [
      "C:\\Users\\Greg\\Anaconda3\\lib\\site-packages\\ipykernel\\__main__.py:4: FutureWarning: pd.rolling_median is deprecated for Series and will be removed in a future version, replace with \n",
      "\tSeries.rolling(window=50,min_periods=1,center=False).median()\n"
     ]
    }
   ],
   "source": [
    "#fill outliers that are out of 1.5*std with rolling median of 56 days\n",
    "data=train_cleaned.iloc[:,i].to_frame()\n",
    "data.columns = ['visits']\n",
    "data['median'] = pd.rolling_median(data.visits,50,min_periods=1)\n",
    "std_mult = 1.5\n",
    "data.ix[np.abs(data.visits-data.visits.median())>=(std_mult*data.visits.std()),'visits'] = data.ix[np.abs(data.visits-data.visits.median())>=(std_mult*data.visits.std()),'median']\n",
    "data.index = pd.to_datetime(data.index)\n",
    "\n",
    "print(data.tail())"
   ]
  },
  {
   "cell_type": "code",
   "execution_count": 41,
   "metadata": {
    "collapsed": false,
    "scrolled": true
   },
   "outputs": [
    {
     "data": {
      "text/html": [
       "<div>\n",
       "<table border=\"1\" class=\"dataframe\">\n",
       "  <thead>\n",
       "    <tr style=\"text-align: right;\">\n",
       "      <th></th>\n",
       "      <th>ds</th>\n",
       "      <th>y</th>\n",
       "    </tr>\n",
       "  </thead>\n",
       "  <tbody>\n",
       "    <tr>\n",
       "      <th>485</th>\n",
       "      <td>2016-10-28</td>\n",
       "      <td>12.0</td>\n",
       "    </tr>\n",
       "    <tr>\n",
       "      <th>486</th>\n",
       "      <td>2016-10-29</td>\n",
       "      <td>8.0</td>\n",
       "    </tr>\n",
       "    <tr>\n",
       "      <th>487</th>\n",
       "      <td>2016-10-30</td>\n",
       "      <td>11.0</td>\n",
       "    </tr>\n",
       "    <tr>\n",
       "      <th>488</th>\n",
       "      <td>2016-10-31</td>\n",
       "      <td>13.0</td>\n",
       "    </tr>\n",
       "    <tr>\n",
       "      <th>489</th>\n",
       "      <td>2016-11-01</td>\n",
       "      <td>8.0</td>\n",
       "    </tr>\n",
       "  </tbody>\n",
       "</table>\n",
       "</div>"
      ],
      "text/plain": [
       "            ds     y\n",
       "485 2016-10-28  12.0\n",
       "486 2016-10-29   8.0\n",
       "487 2016-10-30  11.0\n",
       "488 2016-10-31  13.0\n",
       "489 2016-11-01   8.0"
      ]
     },
     "execution_count": 41,
     "metadata": {},
     "output_type": "execute_result"
    }
   ],
   "source": [
    "#prophet expects the folllwing label names\n",
    "X = pd.DataFrame(index=range(0,len(data)))\n",
    "X['ds'] = data.index\n",
    "X['y'] = data['visits'].values\n",
    "X.tail()"
   ]
  },
  {
   "cell_type": "code",
   "execution_count": 20,
   "metadata": {
    "collapsed": false,
    "scrolled": true
   },
   "outputs": [
    {
     "data": {
      "text/html": [
       "<div>\n",
       "<table border=\"1\" class=\"dataframe\">\n",
       "  <thead>\n",
       "    <tr style=\"text-align: right;\">\n",
       "      <th></th>\n",
       "      <th>ds</th>\n",
       "    </tr>\n",
       "  </thead>\n",
       "  <tbody>\n",
       "    <tr>\n",
       "      <th>545</th>\n",
       "      <td>2016-12-27</td>\n",
       "    </tr>\n",
       "    <tr>\n",
       "      <th>546</th>\n",
       "      <td>2016-12-28</td>\n",
       "    </tr>\n",
       "    <tr>\n",
       "      <th>547</th>\n",
       "      <td>2016-12-29</td>\n",
       "    </tr>\n",
       "    <tr>\n",
       "      <th>548</th>\n",
       "      <td>2016-12-30</td>\n",
       "    </tr>\n",
       "    <tr>\n",
       "      <th>549</th>\n",
       "      <td>2016-12-31</td>\n",
       "    </tr>\n",
       "  </tbody>\n",
       "</table>\n",
       "</div>"
      ],
      "text/plain": [
       "            ds\n",
       "545 2016-12-27\n",
       "546 2016-12-28\n",
       "547 2016-12-29\n",
       "548 2016-12-30\n",
       "549 2016-12-31"
      ]
     },
     "execution_count": 20,
     "metadata": {},
     "output_type": "execute_result"
    }
   ],
   "source": [
    "m = Prophet(yearly_seasonality=True)\n",
    "m.fit(X)\n",
    "future = m.make_future_dataframe(periods=N)\n",
    "future.tail()"
   ]
  },
  {
   "cell_type": "code",
   "execution_count": 21,
   "metadata": {
    "collapsed": false,
    "scrolled": true
   },
   "outputs": [
    {
     "data": {
      "text/html": [
       "<div>\n",
       "<table border=\"1\" class=\"dataframe\">\n",
       "  <thead>\n",
       "    <tr style=\"text-align: right;\">\n",
       "      <th></th>\n",
       "      <th>ds</th>\n",
       "      <th>yhat</th>\n",
       "      <th>yhat_lower</th>\n",
       "      <th>yhat_upper</th>\n",
       "    </tr>\n",
       "  </thead>\n",
       "  <tbody>\n",
       "    <tr>\n",
       "      <th>545</th>\n",
       "      <td>2016-12-27</td>\n",
       "      <td>7.598444</td>\n",
       "      <td>4.297718</td>\n",
       "      <td>10.812616</td>\n",
       "    </tr>\n",
       "    <tr>\n",
       "      <th>546</th>\n",
       "      <td>2016-12-28</td>\n",
       "      <td>7.463386</td>\n",
       "      <td>3.652265</td>\n",
       "      <td>10.785912</td>\n",
       "    </tr>\n",
       "    <tr>\n",
       "      <th>547</th>\n",
       "      <td>2016-12-29</td>\n",
       "      <td>7.663301</td>\n",
       "      <td>4.171799</td>\n",
       "      <td>10.936460</td>\n",
       "    </tr>\n",
       "    <tr>\n",
       "      <th>548</th>\n",
       "      <td>2016-12-30</td>\n",
       "      <td>7.687787</td>\n",
       "      <td>4.284011</td>\n",
       "      <td>11.110007</td>\n",
       "    </tr>\n",
       "    <tr>\n",
       "      <th>549</th>\n",
       "      <td>2016-12-31</td>\n",
       "      <td>8.920892</td>\n",
       "      <td>5.706805</td>\n",
       "      <td>12.841746</td>\n",
       "    </tr>\n",
       "  </tbody>\n",
       "</table>\n",
       "</div>"
      ],
      "text/plain": [
       "            ds      yhat  yhat_lower  yhat_upper\n",
       "545 2016-12-27  7.598444    4.297718   10.812616\n",
       "546 2016-12-28  7.463386    3.652265   10.785912\n",
       "547 2016-12-29  7.663301    4.171799   10.936460\n",
       "548 2016-12-30  7.687787    4.284011   11.110007\n",
       "549 2016-12-31  8.920892    5.706805   12.841746"
      ]
     },
     "execution_count": 21,
     "metadata": {},
     "output_type": "execute_result"
    }
   ],
   "source": [
    "forecast = m.predict(future)\n",
    "forecast[['ds', 'yhat', 'yhat_lower', 'yhat_upper']].tail()"
   ]
  },
  {
   "cell_type": "code",
   "execution_count": 22,
   "metadata": {
    "collapsed": false,
    "scrolled": true
   },
   "outputs": [
    {
     "data": {
      "image/png": "[encoded data removed]",
      "text/plain": [
       "<matplotlib.figure.Figure at 0x1998061b6d8>"
      ]
     },
     "metadata": {},
     "output_type": "display_data"
    }
   ],
   "source": [
    "m.plot(forecast);"
   ]
  },
  {
   "cell_type": "code",
   "execution_count": 23,
   "metadata": {
    "collapsed": false
   },
   "outputs": [
    {
     "name": "stdout",
     "output_type": "stream",
     "text": [
      "45.3867395278\n"
     ]
    }
   ],
   "source": [
    "y_truth = test_cleaned.iloc[:,i].values\n",
    "y_forecasted = forecast.iloc[-N:,2].values\n",
    "\n",
    "\n",
    "denominator = (np.abs(y_truth) + np.abs(y_forecasted))\n",
    "diff = np.abs(y_truth - y_forecasted) / denominator\n",
    "diff[denominator == 0] = 0.0\n",
    "print(200 * np.mean(diff))"
   ]
  },
  {
   "cell_type": "code",
   "execution_count": 24,
   "metadata": {
    "collapsed": false,
    "scrolled": true
   },
   "outputs": [
    {
     "name": "stdout",
     "output_type": "stream",
     "text": [
      "35.747757261\n"
     ]
    }
   ],
   "source": [
    "print(200 * np.median(diff))"
   ]
  },
  {
   "cell_type": "code",
   "execution_count": 26,
   "metadata": {
    "collapsed": true
   },
   "outputs": [],
   "source": [
    "import time"
   ]
  },
  {
   "cell_type": "code",
   "execution_count": 44,
   "metadata": {
    "collapsed": false
   },
   "outputs": [
    {
     "name": "stderr",
     "output_type": "stream",
     "text": [
      "C:\\Users\\Greg\\Anaconda3\\lib\\site-packages\\ipykernel\\__main__.py:4: FutureWarning: pd.rolling_median is deprecated for Series and will be removed in a future version, replace with \n",
      "\tSeries.rolling(window=50,min_periods=1,center=False).median()\n"
     ]
    },
    {
     "name": "stdout",
     "output_type": "stream",
     "text": [
      "2.5738401412963867\n"
     ]
    }
   ],
   "source": [
    "#fill outliers that are out of 1.5*std with rolling median of 56 days\n",
    "data=train_cleaned.iloc[:,i].to_frame()\n",
    "data.columns = ['visits']\n",
    "data['median'] = pd.rolling_median(data.visits,50,min_periods=1)\n",
    "std_mult = 1.5\n",
    "data.ix[np.abs(data.visits-data.visits.median())>=(std_mult*data.visits.std()),'visits'] = data.ix[np.abs(data.visits-data.visits.median())>=(std_mult*data.visits.std()),'median']\n",
    "data.index = pd.to_datetime(data.index)\n",
    "#prophet expects the folllwing label names\n",
    "X = pd.DataFrame(index=range(0,len(data)))\n",
    "X['ds'] = data.index\n",
    "X['y'] = data['visits'].values\n",
    "t0=time.time()\n",
    "m = Prophet(yearly_seasonality=True)\n",
    "m.fit(X)\n",
    "future = m.make_future_dataframe(periods=N)\n",
    "forecast = m.predict(future)\n",
    "y_forecasted = forecast.iloc[-N:,2].values\n",
    "print(time.time()-t0)"
   ]
  },
  {
   "cell_type": "code",
   "execution_count": 50,
   "metadata": {
    "collapsed": false
   },
   "outputs": [
    {
     "data": {
      "text/plain": [
       "array([ 8.56253769,  8.56956469,  8.57659169,  8.5836187 ,  8.5906457 ,\n",
       "        8.5976727 ,  8.6046997 ,  8.6117267 ,  8.6187537 ,  8.62578071,\n",
       "        8.63280771,  8.63983471,  8.64686171,  8.65388871,  8.66091571,\n",
       "        8.66794272,  8.67496972,  8.68199672,  8.68902372,  8.69605072,\n",
       "        8.70307773,  8.71010473,  8.71713173,  8.72415873,  8.73118573,\n",
       "        8.73821273,  8.74523974,  8.75226674,  8.75929374,  8.76632074,\n",
       "        8.77334774,  8.78037475,  8.78740175,  8.79442875,  8.80145575,\n",
       "        8.80848275,  8.81550975,  8.82253676,  8.82956376,  8.83659076,\n",
       "        8.84361776,  8.85064476,  8.85767177,  8.86469877,  8.87172577,\n",
       "        8.87875277,  8.88577977,  8.89280677,  8.89983378,  8.90686078,\n",
       "        8.91388778,  8.92091478,  8.92794178,  8.93496878,  8.94199579,\n",
       "        8.94902279,  8.95604979,  8.96307679,  8.97010379,  8.9771308 ])"
      ]
     },
     "execution_count": 50,
     "metadata": {},
     "output_type": "execute_result"
    }
   ],
   "source": [
    "y_forecasted"
   ]
  },
  {
   "cell_type": "code",
   "execution_count": null,
   "metadata": {
    "collapsed": true
   },
   "outputs": [],
   "source": []
  },
  {
   "cell_type": "code",
   "execution_count": null,
   "metadata": {
    "collapsed": true
   },
   "outputs": [],
   "source": []
  },
  {
   "cell_type": "code",
   "execution_count": null,
   "metadata": {
    "collapsed": true
   },
   "outputs": [],
   "source": []
  },
  {
   "cell_type": "code",
   "execution_count": null,
   "metadata": {
    "collapsed": true
   },
   "outputs": [],
   "source": []
  },
  {
   "cell_type": "code",
   "execution_count": null,
   "metadata": {
    "collapsed": true
   },
   "outputs": [],
   "source": []
  },
  {
   "cell_type": "code",
   "execution_count": null,
   "metadata": {
    "collapsed": true
   },
   "outputs": [],
   "source": []
  },
  {
   "cell_type": "code",
   "execution_count": null,
   "metadata": {
    "collapsed": true
   },
   "outputs": [],
   "source": []
  },
  {
   "cell_type": "code",
   "execution_count": null,
   "metadata": {
    "collapsed": true
   },
   "outputs": [],
   "source": []
  },
  {
   "cell_type": "code",
   "execution_count": 34,
   "metadata": {
    "collapsed": false
   },
   "outputs": [
    {
     "name": "stdout",
     "output_type": "stream",
     "text": [
      "Reading data...\n",
      "Processing...\n",
      "key_1...\n",
      "train_1...\n"
     ]
    },
    {
     "name": "stderr",
     "output_type": "stream",
     "text": [
      "C:\\Users\\Greg\\Anaconda3\\lib\\site-packages\\numpy\\lib\\function_base.py:3858: RuntimeWarning: All-NaN slice encountered\n",
      "  r = func(a, **kwargs)\n"
     ]
    },
    {
     "name": "stdout",
     "output_type": "stream",
     "text": [
      "3.3769752979278564\n",
      "Modifying sample submission...\n",
      "Saving submission...\n"
     ]
    }
   ],
   "source": [
    "import numpy as np\n",
    "import pandas as pd\n",
    "\n",
    "print('Reading data...')\n",
    "key_1 = pd.read_csv('../input/key_1.csv')\n",
    "train_1 = pd.read_csv('../input/train_1.csv')\n",
    "ss_1 = pd.read_csv('../input/sample_submission_1.csv')\n",
    "\n",
    "#print('Preprocessing...')\n",
    "# train_1.fillna(0, inplace=True)\n",
    "\n",
    "print('Processing...')\n",
    "ids = key_1.Id.values\n",
    "pages = key_1.Page.values\n",
    "\n",
    "print('key_1...')\n",
    "d_pages = {}\n",
    "for id, page in zip(ids, pages):\n",
    "    d_pages[id] = page[:-11]\n",
    "\n",
    "print('train_1...')\n",
    "t0=time.time()\n",
    "pages = train_1.Page.values\n",
    "# visits = train_1['2016-12-31'].values # Version 1 score: 60.6\n",
    "# visits = np.round(np.mean(train_1.drop('Page', axis=1).values, axis=1)) # Version 2 score: 64.8\n",
    "# visits = np.round(np.mean(train_1.drop('Page', axis=1).values[:, -14:], axis=1)) # Version 3 score: 52.5\n",
    "# visits = np.round(np.mean(train_1.drop('Page', axis=1).values[:, -7:], axis=1)) # Version 4 score: 53.7\n",
    "# visits = np.round(np.mean(train_1.drop('Page', axis=1).values[:, -21:], axis=1)) # Version 5, 6 score: 51.3\n",
    "# visits = np.round(np.mean(train_1.drop('Page', axis=1).values[:, -28:], axis=1)) # Version 7 score: 51.1\n",
    "# visits = np.round(np.median(train_1.drop('Page', axis=1).values[:, -28:], axis=1)) # Version 8 score: 47.1 \n",
    "# visits = np.round(np.median(train_1.drop('Page', axis=1).values[:, -35:], axis=1)) # Version 9 score: 46.6\n",
    "# visits = np.round(np.median(train_1.drop('Page', axis=1).values[:, -42:], axis=1)) # Version 10 score: 46.3\n",
    "# visits = np.round(np.median(train_1.drop('Page', axis=1).values[:, -49:], axis=1)) # Version 11 score: 46.2\n",
    "# visits = np.nan_to_num(np.round(np.nanmedian(train_1.drop('Page', axis=1).values[:, -49:], axis=1))) # Version 12 score: 45.7\n",
    "visits = np.nan_to_num(np.round(np.nanmedian(train_1.drop('Page', axis=1).values[:, -56:], axis=1)))\n",
    "\n",
    "d_visits = {}\n",
    "for page, visits_number in zip(pages, visits):\n",
    "    d_visits[page] = visits_number\n",
    "\n",
    "print(time.time()-t0)\n",
    "print('Modifying sample submission...')\n",
    "ss_ids = ss_1.Id.values\n",
    "ss_visits = ss_1.Visits.values\n",
    "\n",
    "for i, ss_id in enumerate(ss_ids):\n",
    "    ss_visits[i] = d_visits[d_pages[ss_id]]\n",
    "\n",
    "print('Saving submission...')\n",
    "subm = pd.DataFrame({'Id': ss_ids, 'Visits': ss_visits})\n",
    "subm.to_csv('submission.csv', index=False)"
   ]
  },
  {
   "cell_type": "code",
   "execution_count": 49,
   "metadata": {
    "collapsed": false
   },
   "outputs": [
    {
     "data": {
      "text/html": [
       "<div>\n",
       "<table border=\"1\" class=\"dataframe\">\n",
       "  <thead>\n",
       "    <tr style=\"text-align: right;\">\n",
       "      <th></th>\n",
       "      <th>Id</th>\n",
       "      <th>Visits</th>\n",
       "    </tr>\n",
       "  </thead>\n",
       "  <tbody>\n",
       "    <tr>\n",
       "      <th>0</th>\n",
       "      <td>bf4edcf969af</td>\n",
       "      <td>3</td>\n",
       "    </tr>\n",
       "    <tr>\n",
       "      <th>1</th>\n",
       "      <td>929ed2bf52b9</td>\n",
       "      <td>3</td>\n",
       "    </tr>\n",
       "    <tr>\n",
       "      <th>2</th>\n",
       "      <td>ff29d0f51d5c</td>\n",
       "      <td>3</td>\n",
       "    </tr>\n",
       "    <tr>\n",
       "      <th>3</th>\n",
       "      <td>e98873359be6</td>\n",
       "      <td>3</td>\n",
       "    </tr>\n",
       "    <tr>\n",
       "      <th>4</th>\n",
       "      <td>fa012434263a</td>\n",
       "      <td>3</td>\n",
       "    </tr>\n",
       "    <tr>\n",
       "      <th>5</th>\n",
       "      <td>48f1e93517a2</td>\n",
       "      <td>3</td>\n",
       "    </tr>\n",
       "    <tr>\n",
       "      <th>6</th>\n",
       "      <td>5def418fcb36</td>\n",
       "      <td>3</td>\n",
       "    </tr>\n",
       "    <tr>\n",
       "      <th>7</th>\n",
       "      <td>77bd08134351</td>\n",
       "      <td>3</td>\n",
       "    </tr>\n",
       "    <tr>\n",
       "      <th>8</th>\n",
       "      <td>5889e6dbb16f</td>\n",
       "      <td>3</td>\n",
       "    </tr>\n",
       "    <tr>\n",
       "      <th>9</th>\n",
       "      <td>5f21fef1d764</td>\n",
       "      <td>3</td>\n",
       "    </tr>\n",
       "    <tr>\n",
       "      <th>10</th>\n",
       "      <td>6f07e1b8815a</td>\n",
       "      <td>3</td>\n",
       "    </tr>\n",
       "    <tr>\n",
       "      <th>11</th>\n",
       "      <td>228e54b5dea0</td>\n",
       "      <td>3</td>\n",
       "    </tr>\n",
       "    <tr>\n",
       "      <th>12</th>\n",
       "      <td>da1b34963ed7</td>\n",
       "      <td>3</td>\n",
       "    </tr>\n",
       "    <tr>\n",
       "      <th>13</th>\n",
       "      <td>ab5ccefaa2db</td>\n",
       "      <td>3</td>\n",
       "    </tr>\n",
       "    <tr>\n",
       "      <th>14</th>\n",
       "      <td>cbf42873ebf1</td>\n",
       "      <td>3</td>\n",
       "    </tr>\n",
       "    <tr>\n",
       "      <th>15</th>\n",
       "      <td>ac67e35ed44e</td>\n",
       "      <td>3</td>\n",
       "    </tr>\n",
       "    <tr>\n",
       "      <th>16</th>\n",
       "      <td>88c098aa640d</td>\n",
       "      <td>3</td>\n",
       "    </tr>\n",
       "    <tr>\n",
       "      <th>17</th>\n",
       "      <td>7c72842a89d1</td>\n",
       "      <td>3</td>\n",
       "    </tr>\n",
       "    <tr>\n",
       "      <th>18</th>\n",
       "      <td>8ce002f2c329</td>\n",
       "      <td>3</td>\n",
       "    </tr>\n",
       "    <tr>\n",
       "      <th>19</th>\n",
       "      <td>5f72d9920560</td>\n",
       "      <td>3</td>\n",
       "    </tr>\n",
       "    <tr>\n",
       "      <th>20</th>\n",
       "      <td>f93afd7f5d9b</td>\n",
       "      <td>3</td>\n",
       "    </tr>\n",
       "    <tr>\n",
       "      <th>21</th>\n",
       "      <td>14011cb66f2d</td>\n",
       "      <td>3</td>\n",
       "    </tr>\n",
       "    <tr>\n",
       "      <th>22</th>\n",
       "      <td>0065551ac465</td>\n",
       "      <td>3</td>\n",
       "    </tr>\n",
       "    <tr>\n",
       "      <th>23</th>\n",
       "      <td>175f1872729e</td>\n",
       "      <td>3</td>\n",
       "    </tr>\n",
       "    <tr>\n",
       "      <th>24</th>\n",
       "      <td>31d756e83124</td>\n",
       "      <td>3</td>\n",
       "    </tr>\n",
       "    <tr>\n",
       "      <th>25</th>\n",
       "      <td>e186c2363c5e</td>\n",
       "      <td>3</td>\n",
       "    </tr>\n",
       "    <tr>\n",
       "      <th>26</th>\n",
       "      <td>3bce56c2b977</td>\n",
       "      <td>3</td>\n",
       "    </tr>\n",
       "    <tr>\n",
       "      <th>27</th>\n",
       "      <td>d497981dce77</td>\n",
       "      <td>3</td>\n",
       "    </tr>\n",
       "    <tr>\n",
       "      <th>28</th>\n",
       "      <td>c813cec10548</td>\n",
       "      <td>3</td>\n",
       "    </tr>\n",
       "    <tr>\n",
       "      <th>29</th>\n",
       "      <td>5123e0ed62c9</td>\n",
       "      <td>3</td>\n",
       "    </tr>\n",
       "    <tr>\n",
       "      <th>...</th>\n",
       "      <td>...</td>\n",
       "      <td>...</td>\n",
       "    </tr>\n",
       "    <tr>\n",
       "      <th>8703750</th>\n",
       "      <td>1fb8f902ad0f</td>\n",
       "      <td>231</td>\n",
       "    </tr>\n",
       "    <tr>\n",
       "      <th>8703751</th>\n",
       "      <td>0107f6d7cd82</td>\n",
       "      <td>231</td>\n",
       "    </tr>\n",
       "    <tr>\n",
       "      <th>8703752</th>\n",
       "      <td>30c402ed9e49</td>\n",
       "      <td>231</td>\n",
       "    </tr>\n",
       "    <tr>\n",
       "      <th>8703753</th>\n",
       "      <td>935fa0168d01</td>\n",
       "      <td>231</td>\n",
       "    </tr>\n",
       "    <tr>\n",
       "      <th>8703754</th>\n",
       "      <td>1140b428380e</td>\n",
       "      <td>231</td>\n",
       "    </tr>\n",
       "    <tr>\n",
       "      <th>8703755</th>\n",
       "      <td>cc5eadae0d7a</td>\n",
       "      <td>231</td>\n",
       "    </tr>\n",
       "    <tr>\n",
       "      <th>8703756</th>\n",
       "      <td>f923701cdb05</td>\n",
       "      <td>231</td>\n",
       "    </tr>\n",
       "    <tr>\n",
       "      <th>8703757</th>\n",
       "      <td>905679a20d39</td>\n",
       "      <td>231</td>\n",
       "    </tr>\n",
       "    <tr>\n",
       "      <th>8703758</th>\n",
       "      <td>642354a50690</td>\n",
       "      <td>231</td>\n",
       "    </tr>\n",
       "    <tr>\n",
       "      <th>8703759</th>\n",
       "      <td>7376c63bd4c1</td>\n",
       "      <td>231</td>\n",
       "    </tr>\n",
       "    <tr>\n",
       "      <th>8703760</th>\n",
       "      <td>1f0566b71f7e</td>\n",
       "      <td>231</td>\n",
       "    </tr>\n",
       "    <tr>\n",
       "      <th>8703761</th>\n",
       "      <td>938774bbb675</td>\n",
       "      <td>231</td>\n",
       "    </tr>\n",
       "    <tr>\n",
       "      <th>8703762</th>\n",
       "      <td>53c046bac8cb</td>\n",
       "      <td>231</td>\n",
       "    </tr>\n",
       "    <tr>\n",
       "      <th>8703763</th>\n",
       "      <td>ead2377353d3</td>\n",
       "      <td>231</td>\n",
       "    </tr>\n",
       "    <tr>\n",
       "      <th>8703764</th>\n",
       "      <td>efa87c7d5160</td>\n",
       "      <td>231</td>\n",
       "    </tr>\n",
       "    <tr>\n",
       "      <th>8703765</th>\n",
       "      <td>f239d6ceb17b</td>\n",
       "      <td>231</td>\n",
       "    </tr>\n",
       "    <tr>\n",
       "      <th>8703766</th>\n",
       "      <td>0fef0826b1bc</td>\n",
       "      <td>231</td>\n",
       "    </tr>\n",
       "    <tr>\n",
       "      <th>8703767</th>\n",
       "      <td>478d3c34b0c1</td>\n",
       "      <td>231</td>\n",
       "    </tr>\n",
       "    <tr>\n",
       "      <th>8703768</th>\n",
       "      <td>6a1b6e3028fc</td>\n",
       "      <td>231</td>\n",
       "    </tr>\n",
       "    <tr>\n",
       "      <th>8703769</th>\n",
       "      <td>3b5fb022accd</td>\n",
       "      <td>231</td>\n",
       "    </tr>\n",
       "    <tr>\n",
       "      <th>8703770</th>\n",
       "      <td>a4456a9d271d</td>\n",
       "      <td>231</td>\n",
       "    </tr>\n",
       "    <tr>\n",
       "      <th>8703771</th>\n",
       "      <td>d43a25cf4ef2</td>\n",
       "      <td>231</td>\n",
       "    </tr>\n",
       "    <tr>\n",
       "      <th>8703772</th>\n",
       "      <td>8f47d2e020cd</td>\n",
       "      <td>231</td>\n",
       "    </tr>\n",
       "    <tr>\n",
       "      <th>8703773</th>\n",
       "      <td>a78af728d84b</td>\n",
       "      <td>231</td>\n",
       "    </tr>\n",
       "    <tr>\n",
       "      <th>8703774</th>\n",
       "      <td>d1ba45c7ec08</td>\n",
       "      <td>231</td>\n",
       "    </tr>\n",
       "    <tr>\n",
       "      <th>8703775</th>\n",
       "      <td>f69747f5ee68</td>\n",
       "      <td>231</td>\n",
       "    </tr>\n",
       "    <tr>\n",
       "      <th>8703776</th>\n",
       "      <td>2489963dc503</td>\n",
       "      <td>231</td>\n",
       "    </tr>\n",
       "    <tr>\n",
       "      <th>8703777</th>\n",
       "      <td>b0624c909f4c</td>\n",
       "      <td>231</td>\n",
       "    </tr>\n",
       "    <tr>\n",
       "      <th>8703778</th>\n",
       "      <td>24a1dfb06c10</td>\n",
       "      <td>231</td>\n",
       "    </tr>\n",
       "    <tr>\n",
       "      <th>8703779</th>\n",
       "      <td>add681d54216</td>\n",
       "      <td>231</td>\n",
       "    </tr>\n",
       "  </tbody>\n",
       "</table>\n",
       "<p>8703780 rows × 2 columns</p>\n",
       "</div>"
      ],
      "text/plain": [
       "                   Id  Visits\n",
       "0        bf4edcf969af       3\n",
       "1        929ed2bf52b9       3\n",
       "2        ff29d0f51d5c       3\n",
       "3        e98873359be6       3\n",
       "4        fa012434263a       3\n",
       "5        48f1e93517a2       3\n",
       "6        5def418fcb36       3\n",
       "7        77bd08134351       3\n",
       "8        5889e6dbb16f       3\n",
       "9        5f21fef1d764       3\n",
       "10       6f07e1b8815a       3\n",
       "11       228e54b5dea0       3\n",
       "12       da1b34963ed7       3\n",
       "13       ab5ccefaa2db       3\n",
       "14       cbf42873ebf1       3\n",
       "15       ac67e35ed44e       3\n",
       "16       88c098aa640d       3\n",
       "17       7c72842a89d1       3\n",
       "18       8ce002f2c329       3\n",
       "19       5f72d9920560       3\n",
       "20       f93afd7f5d9b       3\n",
       "21       14011cb66f2d       3\n",
       "22       0065551ac465       3\n",
       "23       175f1872729e       3\n",
       "24       31d756e83124       3\n",
       "25       e186c2363c5e       3\n",
       "26       3bce56c2b977       3\n",
       "27       d497981dce77       3\n",
       "28       c813cec10548       3\n",
       "29       5123e0ed62c9       3\n",
       "...               ...     ...\n",
       "8703750  1fb8f902ad0f     231\n",
       "8703751  0107f6d7cd82     231\n",
       "8703752  30c402ed9e49     231\n",
       "8703753  935fa0168d01     231\n",
       "8703754  1140b428380e     231\n",
       "8703755  cc5eadae0d7a     231\n",
       "8703756  f923701cdb05     231\n",
       "8703757  905679a20d39     231\n",
       "8703758  642354a50690     231\n",
       "8703759  7376c63bd4c1     231\n",
       "8703760  1f0566b71f7e     231\n",
       "8703761  938774bbb675     231\n",
       "8703762  53c046bac8cb     231\n",
       "8703763  ead2377353d3     231\n",
       "8703764  efa87c7d5160     231\n",
       "8703765  f239d6ceb17b     231\n",
       "8703766  0fef0826b1bc     231\n",
       "8703767  478d3c34b0c1     231\n",
       "8703768  6a1b6e3028fc     231\n",
       "8703769  3b5fb022accd     231\n",
       "8703770  a4456a9d271d     231\n",
       "8703771  d43a25cf4ef2     231\n",
       "8703772  8f47d2e020cd     231\n",
       "8703773  a78af728d84b     231\n",
       "8703774  d1ba45c7ec08     231\n",
       "8703775  f69747f5ee68     231\n",
       "8703776  2489963dc503     231\n",
       "8703777  b0624c909f4c     231\n",
       "8703778  24a1dfb06c10     231\n",
       "8703779  add681d54216     231\n",
       "\n",
       "[8703780 rows x 2 columns]"
      ]
     },
     "execution_count": 49,
     "metadata": {},
     "output_type": "execute_result"
    }
   ],
   "source": [
    "subm"
   ]
  },
  {
   "cell_type": "code",
   "execution_count": null,
   "metadata": {
    "collapsed": true
   },
   "outputs": [],
   "source": []
  },
  {
   "cell_type": "code",
   "execution_count": null,
   "metadata": {
    "collapsed": true
   },
   "outputs": [],
   "source": []
  },
  {
   "cell_type": "code",
   "execution_count": null,
   "metadata": {
    "collapsed": true
   },
   "outputs": [],
   "source": []
  },
  {
   "cell_type": "code",
   "execution_count": 51,
   "metadata": {
    "collapsed": true
   },
   "outputs": [],
   "source": [
    "df_iter = pd.read_csv('input/train_1.csv', low_memory=False, iterator=True, chunksize=1000) #limited chunk size"
   ]
  },
  {
   "cell_type": "code",
   "execution_count": 52,
   "metadata": {
    "collapsed": false
   },
   "outputs": [
    {
     "data": {
      "text/plain": [
       "<pandas.io.parsers.TextFileReader at 0x1997158dda0>"
      ]
     },
     "execution_count": 52,
     "metadata": {},
     "output_type": "execute_result"
    }
   ],
   "source": [
    "df_iter"
   ]
  },
  {
   "cell_type": "code",
   "execution_count": null,
   "metadata": {
    "collapsed": false
   },
   "outputs": [
    {
     "name": "stderr",
     "output_type": "stream",
     "text": [
      "C:\\Users\\Greg\\Anaconda3\\lib\\site-packages\\sklearn\\cross_validation.py:44: DeprecationWarning: This module was deprecated in version 0.18 in favor of the model_selection module into which all the refactored classes and functions are moved. Also note that the interface of the new CV iterators are different from that of this module. This module will be removed in 0.20.\n",
      "  \"This module will be removed in 0.20.\", DeprecationWarning)\n",
      "C:\\Users\\Greg\\Anaconda3\\lib\\site-packages\\sklearn\\grid_search.py:43: DeprecationWarning: This module was deprecated in version 0.18 in favor of the model_selection module into which all the refactored classes and functions are moved. This module will be removed in 0.20.\n",
      "  DeprecationWarning)\n",
      "C:\\Users\\Greg\\Anaconda3\\lib\\site-packages\\sklearn\\lda.py:6: DeprecationWarning: lda.LDA has been moved to discriminant_analysis.LinearDiscriminantAnalysis in 0.17 and will be removed in 0.19\n",
      "  \"in 0.17 and will be removed in 0.19\", DeprecationWarning)\n",
      "C:\\Users\\Greg\\Anaconda3\\lib\\site-packages\\sklearn\\learning_curve.py:23: DeprecationWarning: This module was deprecated in version 0.18 in favor of the model_selection module into which all the functions are moved. This module will be removed in 0.20\n",
      "  DeprecationWarning)\n",
      "C:\\Users\\Greg\\Anaconda3\\lib\\site-packages\\sklearn\\qda.py:6: DeprecationWarning: qda.QDA has been moved to discriminant_analysis.QuadraticDiscriminantAnalysis in 0.17 and will be removed in 0.19.\n",
      "  \"in 0.17 and will be removed in 0.19.\", DeprecationWarning)\n"
     ]
    },
    {
     "name": "stdout",
     "output_type": "stream",
     "text": [
      "multiprocess train...\n"
     ]
    }
   ],
   "source": [
    "#%%time\n",
    "import warnings; warnings.filterwarnings('ignore')\n",
    "from multiprocessing import Pool, cpu_count\n",
    "import pandas as pd\n",
    "import numpy as np\n",
    "import xgboost as xgb\n",
    "from sklearn import *\n",
    "import sklearn\n",
    "import zipfile, zlib\n",
    "import subprocess\n",
    "\n",
    "#Phase 1 [Train: Years 2015 Q3-2016 Q4/ Test: Year 2017 Q1]\n",
    "#Phase 2 [Train: Year 2017 Q1-Q3 / predict 2017 Q4\n",
    "\n",
    "def transform_df_train(df):\n",
    "    df['Name'] = df['Page'].map(lambda x: ' '.join(str(x).split('_')[:-3]))\n",
    "    df['Project'] = df['Page'].map(lambda x: str(x).split('_')[-3])\n",
    "    df['Access'] = df['Page'].map(lambda x: str(x).split('_')[-2])\n",
    "    df['Agent'] = df['Page'].map(lambda x: str(x).split('_')[-1])\n",
    "    d = {}\n",
    "    for y in range(15,18):\n",
    "        for m in range(12):\n",
    "            d['quarter'+str(y)+str(m+1).zfill(2)] = [c for c in df.columns if '20' + str(y) + '-' + str(m+1).zfill(2) in c]\n",
    "    for k in d:\n",
    "        if len(d[k])>0:\n",
    "            df['Visits'] = df[d[k]].fillna(0).median(axis=1,  numeric_only=True)\n",
    "            df = df.drop(d[k],axis=1)\n",
    "    con = []\n",
    "    for k in d:\n",
    "        if len(d[k])>0:\n",
    "            dfx = df[['Name','Project','Access','Agent','Visits']]\n",
    "            dfx['Year'] = int(k[-4:-2])\n",
    "            dfx['Month'] = int(k[-2:])\n",
    "            con.append(dfx.copy())\n",
    "    df = pd.concat(con, axis=0, ignore_index=True)\n",
    "    return df\n",
    "\n",
    "def transform_df_test(df):\n",
    "    df['Name'] = df['Page'].map(lambda x: ' '.join(str(x).split('_')[:-4]))\n",
    "    df['Project'] = df['Page'].map(lambda x: str(x).split('_')[-4])\n",
    "    df['Access'] = df['Page'].map(lambda x: str(x).split('_')[-3])\n",
    "    df['Agent'] = df['Page'].map(lambda x: str(x).split('_')[-2])\n",
    "    df['Date'] = df['Page'].map(lambda x: str(x).split('_')[-1])\n",
    "    df['Year'] = df['Date'].map(lambda x: int(str(x)[2:4]))\n",
    "    df['Month'] =df['Date'].map(lambda x: int(str(x)[5:7]))\n",
    "    return df[['Id','Name','Project','Access','Agent','Year','Month']]\n",
    "\n",
    "print('multiprocess train...')\n",
    "pool_dfs = []\n",
    "df_iter = pd.read_csv('input/train_1.csv', low_memory=False, iterator=True, chunksize=1000) #limited chunk size\n",
    "for df in df_iter:\n",
    "    if len(df)>0:\n",
    "        pool_dfs.append(df)\n",
    "    #break #limiting for Kaggle Kernels\n",
    "p = Pool(cpu_count())\n",
    "train = p.map(transform_df_train, pool_dfs)\n",
    "train = pd.concat(train, axis=0, ignore_index=True).reset_index(drop=True)\n",
    "p.close()\n",
    "p.join()\n",
    "print(train.values.shape)"
   ]
  },
  {
   "cell_type": "code",
   "execution_count": null,
   "metadata": {
    "collapsed": true
   },
   "outputs": [],
   "source": []
  },
  {
   "cell_type": "code",
   "execution_count": null,
   "metadata": {
    "collapsed": true
   },
   "outputs": [],
   "source": [
    "print('multiprocess test...')\n",
    "pool_dfs = []\n",
    "df_iter = pd.read_csv('../input/key_1.csv', low_memory=False, iterator=True, chunksize=2000) #limited chunk size\n",
    "for df in df_iter:\n",
    "    if len(df)>0:\n",
    "        pool_dfs.append(df)\n",
    "    #break #limiting for Kaggle Kernels\n",
    "p = Pool(cpu_count())\n",
    "test = p.map(transform_df_test, pool_dfs)\n",
    "test = pd.concat(test, axis=0, ignore_index=True).reset_index(drop=True)\n",
    "p.close()\n",
    "p.join()\n",
    "print(test.values.shape)\n",
    "\n",
    "for c in ['Project','Access','Agent']: #,'Name'\n",
    "    lbl = preprocessing.LabelEncoder()\n",
    "    lbl.fit(sorted(list(set(list(train[c].unique()) + list(test[c].unique())))))\n",
    "    train[c] = lbl.transform(train[c].values)\n",
    "    test[c] = lbl.transform(test[c].values)\n",
    "    print(c)\n",
    "\n",
    "y = train['Visits'].values\n",
    "sub = pd.read_csv('../input/sample_submission_1.csv')#[:2000] #limiting for Kaggle Kernels\n",
    "sub = pd.merge(sub, test, how='left', on='Id')\n",
    "\n",
    "class cust_regression_vals(sklearn.base.BaseEstimator, sklearn.base.TransformerMixin):\n",
    "    def fit(self, x, y=None):\n",
    "        return self\n",
    "    def transform(self, x):\n",
    "        x = x.drop(['Name'],axis=1).values\n",
    "        return x\n",
    "\n",
    "class cust_txt_col(sklearn.base.BaseEstimator, sklearn.base.TransformerMixin):\n",
    "    def __init__(self, key):\n",
    "        self.key = key\n",
    "    def fit(self, x, y=None):\n",
    "        return self\n",
    "    def transform(self, x):\n",
    "        return x[self.key].apply(str)\n",
    "\n",
    "fp = pipeline.Pipeline([\n",
    "    ('union', pipeline.FeatureUnion(\n",
    "        n_jobs = -1,\n",
    "        transformer_list = [\n",
    "            ('standard', cust_regression_vals()),\n",
    "            ('pi1', pipeline.Pipeline([('Page1', cust_txt_col('Name')), ('count_Page', feature_extraction.text.CountVectorizer(ngram_range=(1, 2))), ('tsvd1', decomposition.TruncatedSVD(n_components=20, n_iter=10, random_state=12))])),\n",
    "            ('pi2', pipeline.Pipeline([('Page2', cust_txt_col('Name')), ('tfidf_Page', feature_extraction.text.TfidfVectorizer(ngram_range=(1, 2), max_df=0.8, min_df=5)), ('tsvd3', decomposition.TruncatedSVD(n_components=20, n_iter=10, random_state=12))]))\n",
    "        ])\n",
    "    )])\n",
    "\n",
    "xcol = ['Name','Project','Access','Agent','Year','Month']\n",
    "xtrain = fp.fit_transform(train[xcol]); print(xtrain.shape)\n",
    "\n",
    "print(sub.values.shape)\n",
    "tlen = int(len(sub) / 8)\n",
    "nps = []\n",
    "for i in range(0, len(sub), tlen):\n",
    "    nps.append(fp.transform(sub[xcol][i:i+tlen]))\n",
    "xtest = np.concatenate(nps, axis=0)\n",
    "print(xtest.shape)        \n",
    "sub = sub[['Id','Visits']]\n"
   ]
  },
  {
   "cell_type": "code",
   "execution_count": null,
   "metadata": {
    "collapsed": true
   },
   "outputs": [],
   "source": [
    "#https://en.wikipedia.org/wiki/Symmetric_mean_absolute_percentage_error\n",
    "def xgb_smape_score(preds, dtrain):\n",
    "    labels = dtrain.get_label()\n",
    "    denom = ((np.abs(labels) + np.abs(preds))) / 2\n",
    "    score = np.abs(preds - labels) / denom\n",
    "    score[denom == 0] = 0.0\n",
    "    score = (100/len(preds)) * np.sum(score)\n",
    "    return 'smape', score\n",
    "\n",
    "fold = 1\n",
    "for i in range(fold):\n",
    "    params = {\n",
    "        'eta': 0.02,\n",
    "        'max_depth': 4,\n",
    "        'objective': 'reg:linear',\n",
    "        #'eval_metric': 'rmse', #'rmse','mae','mse'\n",
    "        #'base_score': np.median(y),\n",
    "        'seed': i,\n",
    "        'silent': True\n",
    "    }\n",
    "    x1, x2, y1, y2 = model_selection.train_test_split(xtrain, y, test_size=0.3, random_state=i)\n",
    "    watchlist = [(xgb.DMatrix(x1, y1), 'train'), (xgb.DMatrix(x2, y2), 'valid')]\n",
    "    model = xgb.train(params, xgb.DMatrix(x1, y1), 2000,  watchlist, feval=xgb_smape_score, maximize=False, verbose_eval=50, early_stopping_rounds=50)\n",
    "    if i != 0:\n",
    "        pred += model.predict(xgb.DMatrix(xtest), ntree_limit=model.best_ntree_limit)\n",
    "    else:\n",
    "        pred = model.predict(xgb.DMatrix(xtest), ntree_limit=model.best_ntree_limit)\n",
    "pred /= fold\n",
    "sub['Visits'] = pred #pred.clip(min(y),max(y)).astype(int)\n",
    "sub[['Id','Visits']].to_csv('../output/submission.csv', index=False)\n",
    "#z = zipfile.ZipFile('submission.csv.zip', mode='w')\n",
    "#z.write(\"submission.csv\", compress_type=zipfile.ZIP_DEFLATED) #zipfile.ZIP_STORED\n",
    "#z.close()\n",
    "#subprocess.call(['7z', 'a', 'submission.csv.7z', 'submission.csv'])\n",
    "print('Done...')"
   ]
  }
 ],
 "metadata": {
  "kernelspec": {
   "display_name": "Python 3",
   "language": "python",
   "name": "python3"
  },
  "language_info": {
   "codemirror_mode": {
    "name": "ipython",
    "version": 3
   },
   "file_extension": ".py",
   "mimetype": "text/x-python",
   "name": "python",
   "nbconvert_exporter": "python",
   "pygments_lexer": "ipython3",
   "version": "3.6.0"
  }
 },
 "nbformat": 4,
 "nbformat_minor": 2
}
